{
 "cells": [
  {
   "cell_type": "markdown",
   "metadata": {},
   "source": [
    "# 机器学习工程师\n",
    "## 毕业项目开题报告\n",
    "\n",
    "沈捷 2019年3月28日\n",
    "\n",
    "### 背景\n",
    "\n",
    "2013年，kaggle举办了一项趣味性赛事“猫狗大战”，即猫狗图像分类。许多学者及行业人士参与其中，供献了大量的解决方案，机器学习领域的局势由之改变。现今图像分类在许多行业已展开深入研究，如医学上热门的癌组织与良性组织的鉴别，甚至有学者尝试利用深度学习方法鉴别出男女大脑MRI图像的差异<cite data-cite=\"2636952/IJ2W7TIB\"></cite>，都是类似的问题。但医学领域常由于患者隐私保护政策，难以获得大量的训练数据，所以为了更好地学习、研究新的方法，也有学者会利用猫狗大战数据进行探索尝试和验证<cite data-cite=\"2636952/YVAJHILJ\"></cite>，同理可以延伸至许多应用领域。\n",
    "\n",
    "### 问题描述\n",
    "\n",
    "区分图片是猫还是狗的照片，是一个明显的二分类问题，通过输入图像特征，获得一个概率，通过概率来判断属于哪一个类。\n",
    "\n",
    "### 数据输入\n",
    "\n",
    "该数据集已切分为训练集和测试集。训练集包含25000张图片，猫和狗图片比例为1:1，可以从文件名（*标签.编号.jpg*）中获得标签；测试集有12500张图片，文件名只有编号。\n",
    "\n",
    "训练集图片会经过随机旋转、缩放、裁剪等预处理，使模型能有更好的泛化能力。这些图像将统一为$hh \\times ww$大小，并分解为RGB三个颜色通道的色值，再经过标准化处理，作为模型的输入。\n",
    "\n",
    "### 解决方案\n",
    "_(approx. 1 paragraph)_\n",
    "\n",
    "处理好输入数据后，将采用一个预训练的神经网络进行迁移学习，预计将采用vgg16模型。神经网络的输入节点应为$hh \\times ww$大小，输出为1，采用sigmoid激活函数获得图片指向某一类的概率（狗=1，猫=0）。最后将模型在测试集上进行预测，提交到kaggle上进行比较判断。模型的训练目标即是达到kaggle的前10%。\n",
    "\n",
    "训练模型的过程中，将调整epoch、隐藏层节点、学习速率等超参数，以尽量高准确率，降低Loss.\n",
    "\n",
    "附：sigmoid函数公式\n",
    "\n",
    "### 基准模型\n",
    "_(approximately 1-2 paragraphs)_\n",
    "\n",
    "没有基准模型。\n",
    "In this section, provide the details for a benchmark model or result that relates to the domain, problem statement, and intended solution. Ideally, the benchmark model or result contextualizes existing methods or known information in the domain and problem given, which could then be objectively compared to the solution. Describe how the benchmark model or result is measurable (can be measured by some metric and clearly observed) with thorough detail.\n",
    "\n",
    "### 评估指标\n",
    "_(approx. 1-2 paragraphs)_\n",
    "\n",
    "In this section, propose at least one evaluation metric that can be used to quantify the performance of both the benchmark model and the solution model. The evaluation metric(s) you propose should be appropriate given the context of the data, the problem statement, and the intended solution. Describe how the evaluation metric(s) are derived and provide an example of their mathematical representations (if applicable). Complex evaluation metrics should be clearly defined and quantifiable (can be expressed in mathematical or logical terms).\n",
    "\n",
    "### 项目设计\n",
    "_(approx. 1 page)_\n",
    "\n",
    "In this final section, summarize a theoretical workflow for approaching a solution given the problem. Provide thorough discussion for what strategies you may consider employing, what analysis of the data might be required before being used, or which algorithms will be considered for your implementation. The workflow and discussion that you provide should align with the qualities of the previous sections. Additionally, you are encouraged to include small visualizations, pseudocode, or diagrams to aid in describing the project design, but it is not required. The discussion should clearly outline your intended workflow of the capstone project.\n",
    "\n",
    "### 参考文献\n",
    "\n",
    "<div class=\"cite2c-biblio\"></div>\n",
    "\n",
    "-----------\n",
    "\n",
    "**Before submitting your proposal, ask yourself. . .**\n",
    "\n",
    "- Does the proposal you have written follow a well-organized structure similar to that of the project template?\n",
    "- Is each section (particularly **Solution Statement** and **Project Design**) written in a clear, concise and specific fashion? Are there any ambiguous terms or phrases that need clarification?\n",
    "- Would the intended audience of your project be able to understand your proposal?\n",
    "- Have you properly proofread your proposal to assure there are minimal grammatical and spelling mistakes?\n",
    "- Are all the resources used for this project correctly cited and referenced?\n"
   ]
  },
  {
   "cell_type": "code",
   "execution_count": null,
   "metadata": {},
   "outputs": [],
   "source": []
  }
 ],
 "metadata": {
  "cite2c": {
   "citations": {
    "2636952/IJ2W7TIB": {
     "DOI": "10.3389/fnins.2019.00185",
     "abstract": "Do men and women have different brains? Previous neuroimage studies sought to answer this question based on morphological difference between specific brain regions, reporting unfortunately conflicting results. In the present study, we aim to use a deep learning technique to address this challenge based on a large open-access, diffusion MRI database recorded from 1,065 young healthy subjects, including 490 men and 575 women healthy subjects. Different from commonly used 2D Convolutional Neural Network (CNN), we proposed a 3D CNN method with a newly designed structure including three hidden layers in cascade with a linear layer and a terminal Softmax layer. The proposed 3D CNN was applied to the maps of factional anisotropy (FA) in the whole-brain as well as specific brain regions. The entropy measure was applied to the lowest-level image features extracted from the first hidden layer to examine the difference of brain structure complexity between men and women. The obtained results compared with the results from using the Support Vector Machine (SVM) and Tract-Based Spatial Statistics (TBSS). The proposed 3D CNN yielded a better classification result (93.3%) than the SVM (78.2%) on the whole-brain FA images, indicating gender-related differences likely exist in the whole-brain range. Moreover, high classification accuracies are also shown in several specific brain regions including the left precuneus, the left postcentral gyrus, the left cingulate gyrus, the right orbital gyrus of frontal lobe, and the left occipital thalamus in the gray matter, and middle cerebellum peduncle, genu of corpus callosum, the right anterior corona radiata, the right superior corona radiata and the left anterior limb of internal capsule in the while matter. This study provides a new insight into the structure difference between men and women, which highlights the importance of considering sex as a biological variable in brain research.",
     "author": [
      {
       "family": "Xin",
       "given": "Jiang"
      },
      {
       "family": "Zhang",
       "given": "Yaoxue"
      },
      {
       "family": "Tang",
       "given": "Yan"
      },
      {
       "family": "Yang",
       "given": "Yuan"
      }
     ],
     "container-title": "Frontiers in Neuroscience",
     "container-title-short": "Front Neurosci",
     "id": "2636952/IJ2W7TIB",
     "issued": {
      "year": 2019
     },
     "journalAbbreviation": "Front Neurosci",
     "language": "eng",
     "note": "PMID: 30906246\nPMCID: PMC6418873",
     "page": "185",
     "page-first": "185",
     "shortTitle": "Brain Differences Between Men and Women",
     "title": "Brain Differences Between Men and Women: Evidence From Deep Learning",
     "title-short": "Brain Differences Between Men and Women",
     "type": "article-journal",
     "volume": "13"
    },
    "2636952/YVAJHILJ": {
     "URL": "https://arxiv.org/abs/1712.04621v1",
     "abstract": "In this paper, we explore and compare multiple solutions to the problem of\ndata augmentation in image classification. Previous work has demonstrated the\neffectiveness of data augmentation through simple techniques, such as cropping,\nrotating, and flipping input images. We artificially constrain our access to\ndata to a small subset of the ImageNet dataset, and compare each data\naugmentation technique in turn. One of the more successful data augmentations\nstrategies is the traditional transformations mentioned above. We also\nexperiment with GANs to generate images of different styles. Finally, we\npropose a method to allow a neural net to learn augmentations that best improve\nthe classifier, which we call neural augmentation. We discuss the successes and\nshortcomings of this method on various datasets.",
     "accessed": {
      "day": 29,
      "month": 3,
      "year": 2019
     },
     "author": [
      {
       "family": "Perez",
       "given": "Luis"
      },
      {
       "family": "Wang",
       "given": "Jason"
      }
     ],
     "id": "2636952/YVAJHILJ",
     "issued": {
      "day": 13,
      "month": 12,
      "year": 2017
     },
     "language": "en",
     "title": "The Effectiveness of Data Augmentation in Image Classification using Deep Learning",
     "type": "article-journal"
    }
   }
  },
  "kernelspec": {
   "display_name": "Python 3",
   "language": "python",
   "name": "python3"
  },
  "language_info": {
   "codemirror_mode": {
    "name": "ipython",
    "version": 3
   },
   "file_extension": ".py",
   "mimetype": "text/x-python",
   "name": "python",
   "nbconvert_exporter": "python",
   "pygments_lexer": "ipython3",
   "version": "3.7.3"
  }
 },
 "nbformat": 4,
 "nbformat_minor": 2
}
